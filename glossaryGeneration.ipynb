{
 "cells": [
  {
   "cell_type": "code",
   "execution_count": 1,
   "metadata": {},
   "outputs": [],
   "source": [
    "import openai\n",
    "import dotenv\n",
    "import networkx as nx\n",
    "\n",
    "configenv = dotenv.dotenv_values(\".env\")\n",
    "openai_api_key = configenv[\"OPENAI_API_KEY\"]\n",
    "openai.api_key = openai_api_key"
   ]
  },
  {
   "cell_type": "code",
   "execution_count": 2,
   "metadata": {},
   "outputs": [],
   "source": [
    "import openai\n",
    "from scipy.spatial.distance import cosine\n",
    "import copy\n",
    "import networkx as nx\n",
    "from pyvis.network import Network\n",
    "\n",
    "# Function to get embeddings from OpenAI\n",
    "def get_embedding(text, engine=\"text-embedding-ada-002\"):\n",
    "    response = openai.Embedding.create(input=[text], engine=engine)\n",
    "    return response['data'][0]['embedding']\n",
    "\n",
    "# Function to calculate similarity score\n",
    "def calculate_similarity(text1, text2):\n",
    "    # Get embeddings for the texts\n",
    "    embedding1 = get_embedding(text1)\n",
    "    embedding2 = get_embedding(text2)\n",
    "\n",
    "    # Calculate cosine similarity and scale to 0-100\n",
    "    similarity = (1 - cosine(embedding1, embedding2))\n",
    "    return round(similarity, 2)"
   ]
  },
  {
   "cell_type": "code",
   "execution_count": 3,
   "metadata": {},
   "outputs": [],
   "source": [
    "seed_word = \"molecular modelling\""
   ]
  },
  {
   "cell_type": "code",
   "execution_count": 4,
   "metadata": {},
   "outputs": [],
   "source": [
    "prompt = \"Give me a python list of 10 strings (in one single line bounded by '[' and ']' without newline characters) related to the string {}:\".format(seed_word)"
   ]
  },
  {
   "cell_type": "code",
   "execution_count": 5,
   "metadata": {},
   "outputs": [],
   "source": [
    "response = openai.Completion.create(\n",
    "  model=\"gpt-3.5-turbo-instruct\",\n",
    "  prompt=prompt,\n",
    "  max_tokens=2000,\n",
    ")"
   ]
  },
  {
   "cell_type": "code",
   "execution_count": 6,
   "metadata": {},
   "outputs": [],
   "source": [
    "initial_generation = list(eval(response['choices'][0]['text'].strip(\" \\n\")))"
   ]
  },
  {
   "cell_type": "code",
   "execution_count": 7,
   "metadata": {},
   "outputs": [
    {
     "data": {
      "text/plain": [
       "['protein',\n",
       " 'ligand',\n",
       " 'docking',\n",
       " 'molecular dynamics',\n",
       " 'force field',\n",
       " 'simulation',\n",
       " 'energy minimization',\n",
       " 'conformation',\n",
       " 'binding affinity',\n",
       " 'structure prediction']"
      ]
     },
     "execution_count": 7,
     "metadata": {},
     "output_type": "execute_result"
    }
   ],
   "source": [
    "initial_generation"
   ]
  },
  {
   "cell_type": "code",
   "execution_count": 8,
   "metadata": {},
   "outputs": [],
   "source": [
    "G = nx.DiGraph()\n",
    "G.add_node(seed_word)\n",
    "for w in initial_generation:\n",
    "    G.add_node(w)\n",
    "    weight = calculate_similarity(seed_word, w)\n",
    "    G.add_edge(seed_word, w, weight=weight)"
   ]
  },
  {
   "cell_type": "code",
   "execution_count": 9,
   "metadata": {},
   "outputs": [],
   "source": [
    "# Your initial setup code\n",
    "termsL = copy.deepcopy(initial_generation)\n",
    "iter_depth = 5\n",
    "iterL = copy.deepcopy(initial_generation)\n",
    "\n",
    "for i in range(iter_depth):\n",
    "    for j in iterL:\n",
    "        generationsL = []\n",
    "\n",
    "        prompt = \"Give me a python list of 5 strings (it must be enclosed in [ and ] and each string must be seperated by ,) related to '{}' in the context of '{}':\".format(j, seed_word)\n",
    "        response = openai.Completion.create(\n",
    "            model=\"gpt-3.5-turbo-instruct\",\n",
    "            prompt=prompt,\n",
    "            max_tokens=2000,\n",
    "        )\n",
    "\n",
    "        try:\n",
    "            generationsL = list(eval(response['choices'][0]['text'].strip(\" \\n\")))\n",
    "        except:\n",
    "            continue\n",
    "        \n",
    "        # print(generationsL)\n",
    "        for k in generationsL:\n",
    "            if k not in termsL:\n",
    "                termsL.append(k)\n",
    "                G.add_node(k)\n",
    "                weight = calculate_similarity(j, k)\n",
    "                G.add_edge(j, k, weight=weight)\n",
    "            else:\n",
    "                weight = calculate_similarity(j, k)\n",
    "                G.add_edge(j, k, weight=weight)\n",
    "        iterL = copy.deepcopy(generationsL)\n"
   ]
  },
  {
   "cell_type": "code",
   "execution_count": 10,
   "metadata": {},
   "outputs": [
    {
     "name": "stdout",
     "output_type": "stream",
     "text": [
      "KG_vis.html\n"
     ]
    },
    {
     "data": {
      "text/html": [
       "\n",
       "        <iframe\n",
       "            width=\"100%\"\n",
       "            height=\"600px\"\n",
       "            src=\"KG_vis.html\"\n",
       "            frameborder=\"0\"\n",
       "            allowfullscreen\n",
       "            \n",
       "        ></iframe>\n",
       "        "
      ],
      "text/plain": [
       "<IPython.lib.display.IFrame at 0x126eddb20>"
      ]
     },
     "execution_count": 10,
     "metadata": {},
     "output_type": "execute_result"
    }
   ],
   "source": [
    "# Network visualization with explicit addition of nodes and edges\n",
    "nt = Network(notebook=True, cdn_resources='remote')\n",
    "\n",
    "# Add nodes and edges to Pyvis network\n",
    "for node in G.nodes:\n",
    "    if node == seed_word:\n",
    "        nt.add_node(node, label=node, color='red')\n",
    "    else:\n",
    "        nt.add_node(node, label=node)\n",
    "\n",
    "for u, v, attr in G.edges(data=True):\n",
    "    # weight = attr.get('weight', calculate_similarity(u, v))\n",
    "    weight = attr.get('weight', 0.5)\n",
    "    title = f'Similarity: {weight}'\n",
    "    nt.add_edge(u, v, title=title)\n",
    "\n",
    "nt.show(\"KG_vis.html\")\n",
    "# print(termsL)"
   ]
  },
  {
   "cell_type": "code",
   "execution_count": 11,
   "metadata": {},
   "outputs": [
    {
     "data": {
      "text/plain": [
       "130"
      ]
     },
     "execution_count": 11,
     "metadata": {},
     "output_type": "execute_result"
    }
   ],
   "source": [
    "len(G.nodes)"
   ]
  },
  {
   "cell_type": "code",
   "execution_count": 12,
   "metadata": {},
   "outputs": [
    {
     "data": {
      "text/plain": [
       "149"
      ]
     },
     "execution_count": 12,
     "metadata": {},
     "output_type": "execute_result"
    }
   ],
   "source": [
    "len(G.edges)"
   ]
  },
  {
   "cell_type": "code",
   "execution_count": 13,
   "metadata": {},
   "outputs": [],
   "source": [
    "import csv\n",
    "import networkx as nx\n",
    "\n",
    "def export_graph_to_csv(G, file_path):\n",
    "    with open(file_path, mode='w', newline='', encoding='utf-8') as file:\n",
    "        writer = csv.writer(file)\n",
    "        writer.writerow(['from_node', 'to_node', 'weight'])  # Header\n",
    "        for u, v, data in G.edges(data=True):\n",
    "            writer.writerow([u, v, data.get('weight', 0)])  # Write edge data\n"
   ]
  },
  {
   "cell_type": "code",
   "execution_count": 14,
   "metadata": {},
   "outputs": [],
   "source": [
    "export_graph_to_csv(G, \"KG.csv\")"
   ]
  },
  {
   "cell_type": "code",
   "execution_count": 15,
   "metadata": {},
   "outputs": [],
   "source": [
    "def import_graph_from_csv(file_path):\n",
    "    G = nx.Graph()\n",
    "    with open(file_path, mode='r', encoding='utf-8') as file:\n",
    "        reader = csv.reader(file)\n",
    "        next(reader)\n",
    "        for row in reader:\n",
    "            if len(row) == 3:\n",
    "                from_node, to_node, weight = row\n",
    "                G.add_edge(from_node, to_node, weight=float(weight))\n",
    "    return G\n",
    "\n",
    "# G = import_graph_from_csv(\"KG.csv\")"
   ]
  },
  {
   "cell_type": "code",
   "execution_count": 16,
   "metadata": {},
   "outputs": [
    {
     "name": "stdout",
     "output_type": "stream",
     "text": [
      "Number of nodes: 130\n",
      "Number of edges: 149\n",
      "Average in-degree: 1.146153846153846\n",
      "Average out-degree: 1.146153846153846\n",
      "Most central node by in-degree: energy minimization\n",
      "Most central node by out-degree: molecular modelling\n",
      "Most central node by betweenness: homology modeling\n",
      "Most central node by closeness: Homology modeling\n",
      "Number of strongly connected components: 128\n",
      "Number of weakly connected components: 1\n"
     ]
    }
   ],
   "source": [
    "import networkx as nx\n",
    "import matplotlib.pyplot as plt\n",
    "\n",
    "# Basic Graph Information\n",
    "num_nodes = G.number_of_nodes()\n",
    "num_edges = G.number_of_edges()\n",
    "\n",
    "# Degree Analysis for Directed Graph\n",
    "in_degrees = [degree for node, degree in G.in_degree()]\n",
    "out_degrees = [degree for node, degree in G.out_degree()]\n",
    "avg_in_degree = sum(in_degrees) / num_nodes\n",
    "avg_out_degree = sum(out_degrees) / num_nodes\n",
    "\n",
    "# Centrality Measures for Directed Graph\n",
    "in_degree_centrality = nx.in_degree_centrality(G)\n",
    "out_degree_centrality = nx.out_degree_centrality(G)\n",
    "betweenness_centrality = nx.betweenness_centrality(G)\n",
    "closeness_centrality = nx.closeness_centrality(G)\n",
    "\n",
    "# Most central node according to each centrality measure\n",
    "most_central_by_in_degree = max(in_degree_centrality, key=in_degree_centrality.get)\n",
    "most_central_by_out_degree = max(out_degree_centrality, key=out_degree_centrality.get)\n",
    "most_central_by_betweenness = max(betweenness_centrality, key=betweenness_centrality.get)\n",
    "most_central_by_closeness = max(closeness_centrality, key=closeness_centrality.get)\n",
    "\n",
    "# Connected Components for Directed Graph\n",
    "num_strongly_connected_components = nx.number_strongly_connected_components(G)\n",
    "num_weakly_connected_components = nx.number_weakly_connected_components(G)\n",
    "\n",
    "# Printing the insights\n",
    "print(\"Number of nodes:\", num_nodes)\n",
    "print(\"Number of edges:\", num_edges)\n",
    "print(\"Average in-degree:\", avg_in_degree)\n",
    "print(\"Average out-degree:\", avg_out_degree)\n",
    "print(\"Most central node by in-degree:\", most_central_by_in_degree)\n",
    "print(\"Most central node by out-degree:\", most_central_by_out_degree)\n",
    "print(\"Most central node by betweenness:\", most_central_by_betweenness)\n",
    "print(\"Most central node by closeness:\", most_central_by_closeness)\n",
    "print(\"Number of strongly connected components:\", num_strongly_connected_components)\n",
    "print(\"Number of weakly connected components:\", num_weakly_connected_components)\n"
   ]
  },
  {
   "cell_type": "code",
   "execution_count": 17,
   "metadata": {},
   "outputs": [
    {
     "name": "stdout",
     "output_type": "stream",
     "text": [
      "PageRank: {'molecular modelling': 0.006324189619668186, 'protein': 0.006844001433988488, 'ligand': 0.006863741123139892, 'docking': 0.006870321019523692, 'molecular dynamics': 0.008084384087816728, 'force field': 0.007787611560793762, 'simulation': 0.006870321019523692, 'energy minimization': 0.010419136009129611, 'conformation': 0.006870321019523692, 'binding affinity': 0.006844001433988488, 'structure prediction': 0.00685716122675609, 'Receptor': 0.007542055172431117, 'Docking': 0.007471249035642575, 'Binding Site': 0.0075137327177157, 'Pharmacophore': 0.00749957149035799, 'Dissociation Constant': 0.007428765353569448, 'protein docking': 0.007497238786033169, 'ligand docking': 0.008842291167365438, 'molecular docking': 0.008805265282616905, 'docking algorithm': 0.007497238786033169, 'docking simulation': 0.008669670904736033, 'force fields': 0.008859057513041361, 'simulation software': 0.007722739568102101, 'equations of motion': 0.007740005616848199, 'integrator algorithms': 0.007636409324371613, 'potential energy surface': 0.008711489034044296, 'Lennard-Jones': 0.007654740644888915, 'Electrostatics': 0.007654740644888915, 'Van der Waals': 0.007637898226848145, 'Nonbonded interactions': 0.007637898226848145, 'Atomistic potential': 0.007654740644888915, 'Monte Carlo simulation': 0.007549872612958877, 'Brownian dynamics': 0.007477773613353543, 'conformer': 0.0072743796428572614, 'geometry optimization': 0.007335289259728357, 'energy landscape': 0.007371835029851014, 'atomistic model': 0.007262197719483042, 'torsion angle': 0.007495120741078136, 'steric clashes': 0.007509757380095759, 'hydrogen bonding': 0.007509757380095759, 'minimization': 0.007495120741078136, 'Ramachandran plot': 0.007451210824025261, 'protein-ligand binding': 0.008777045090223168, 'Kd value': 0.007389589810962041, 'docking score': 0.007417626658101353, 'binding free energy': 0.007543792470228256, 'binding site interactions': 0.007557810893797912, 'protein structure': 0.007543486187849342, 'ligand binding': 0.007454269365787306, 'homology modeling': 0.008290331738776215, 'amino acid sequence': 0.007573877562245344, 'secondary structure': 0.007618509274480241, 'tertiary structure': 0.007603632037068608, 'quaternary structure': 0.007588754799656976, 'protein folding': 0.007648263749303507, 'molecular mechanics': 0.0072865615662314805, 'conformational search': 0.0072865615662314805, 'optimization algorithms': 0.007335289259728357, 'Protein-Ligand Docking': 0.007854322662220907, 'Molecular Docking': 0.00929026965849359, 'Virtual Screening': 0.0077487962454931315, 'Ligand Binding': 0.0077487962454931315, 'Active Site Prediction': 0.007731208509371836, 'protein structure prediction': 0.009036937767107102, '3D model building': 0.007761282793885202, 'alignment of sequences': 0.007709339667106274, 'template-based modeling': 0.007830540296257106, 'accuracy assessment': 0.007605453413548418, 'secondary structure prediction': 0.007168500245654814, 'tertiary structure prediction': 0.0071593229562419165, 'ab initio modeling': 0.007076727351525832, 'de novo modeling': 0.007049195483287139, 'Protein structure': 0.007630338061558798, 'Ligand design': 0.007630338061558798, 'Macromolecular assembly': 0.007630338061558798, 'Molecular docking': 0.0089365277531453, 'Visualization tools': 0.007679938635301479, 'Sequence alignment': 0.007775153505246815, 'Homology modeling': 0.010971879194334126, 'Multiple sequence alignment': 0.007775153505246815, 'Structural superposition': 0.007541127072088972, 'Comparative modeling': 0.007509923547667925, 'Threading': 0.008286807669508213, 'Protein structure prediction': 0.007593496501476763, 'Model refinement': 0.007707408657536507, 'Structure alignment': 0.007609769666628156, 'RMSD calculation': 0.007651560335047729, 'ligand binding affinity': 0.007599844592890084, 'force field optimization': 0.007617083173609299, 'protein docking analysis': 0.007617083173609299, 'Root Mean Square Deviation': 0.0076909069339114, 'Structural Alignment': 0.007559175144586754, 'Protein Conformation': 0.0076415075129146574, 'Structural Changes': 0.007526242197255591, 'Ab initio prediction': 0.007113436509177425, 'Fold recognition': 0.00704001819387424, 'Protein structure refinement': 0.0071501456668290175, 'protein-ligand interactions': 0.007672019965100979, 'docking energy': 0.008919663655072631, 'binding site': 0.0076410353594588455, 'binding affinity prediction': 0.007703004570743112, 'scoring function': 0.007470620028427112, 'parameter optimization': 0.007709377047494026, 'molecular dynamics simulations': 0.007596629233601224, 'steepest descent': 0.0075483087419328816, 'genetic algorithm': 0.007596629233601224, 'protein binding': 0.007604120782697092, 'molecular interaction': 0.0075438887279663195, 'protein-protein interactions': 0.007604120782697092, 'Protein-protein interactions': 0.007659904935495419, 'Binding affinities': 0.007659904935495419, 'Binding pockets': 0.007613845786673791, 'enzyme-substrate interaction': 0.00760080821719898, 'protein-protein interaction': 0.007644829548148317, 'ligand-receptor binding': 0.007571460663232754, 'Protein-ligand interactions': 0.007924483397334243, 'Molecular docking software': 0.007960445055259323, 'Virtual screening': 0.007762655936671383, 'Binding affinity': 0.007816598423559003, 'Scoring functions': 0.007672751791858683, 'binding energy': 0.007954085273681999, 'ligand interactions': 0.007844204667793427, 'receptor conformation': 0.007807577799163903, 'hydrophobic interactions': 0.007789264364849141, 'polar interactions': 0.007807577799163903, 'protein-protein docking': 0.007594818502972549, 'protein-protein binding': 0.007622440870000904, 'protein-protein interface': 0.007650063237029259, 'protein-protein complexes': 0.007636252053515081, 'protein-protein analysis': 0.00758100731945837}\n",
      "Hubs: {'molecular modelling': 0.12326510197004716, 'protein': -0.0, 'ligand': 8.95191678375752e-18, 'docking': 0.01629878748354511, 'molecular dynamics': 0.012288787373249281, 'force field': 7.896623429073797e-18, 'simulation': 0.051229852903826166, 'energy minimization': 0.03963703949543299, 'conformation': -8.170842025531942e-18, 'binding affinity': 0.0005402124608469236, 'structure prediction': 0.07460558632962107, 'Receptor': -0.0, 'Docking': -0.0, 'Binding Site': -0.0, 'Pharmacophore': -0.0, 'Dissociation Constant': -0.0, 'protein docking': -0.0, 'ligand docking': 8.190641683803066e-20, 'molecular docking': -0.0, 'docking algorithm': -0.0, 'docking simulation': -2.4992130142161643e-17, 'force fields': -0.0, 'simulation software': -0.0, 'equations of motion': -0.0, 'integrator algorithms': -0.0, 'potential energy surface': -0.0, 'Lennard-Jones': -0.0, 'Electrostatics': -0.0, 'Van der Waals': -0.0, 'Nonbonded interactions': -0.0, 'Atomistic potential': -0.0, 'Monte Carlo simulation': -0.0, 'Brownian dynamics': -0.0, 'conformer': -0.0, 'geometry optimization': -0.0, 'energy landscape': -0.0, 'atomistic model': -0.0, 'torsion angle': -0.0, 'steric clashes': -0.0, 'hydrogen bonding': -0.0, 'minimization': -0.0, 'Ramachandran plot': -0.0, 'protein-ligand binding': -0.0, 'Kd value': -0.0, 'docking score': -0.0, 'binding free energy': -0.0, 'binding site interactions': -0.0, 'protein structure': 9.449934442690192e-18, 'ligand binding': -0.0, 'homology modeling': -4.622417687491341e-18, 'amino acid sequence': -0.0, 'secondary structure': -0.0, 'tertiary structure': -0.0, 'quaternary structure': -0.0, 'protein folding': -0.0, 'molecular mechanics': -0.0, 'conformational search': -0.0, 'optimization algorithms': -0.0, 'Protein-Ligand Docking': -0.0, 'Molecular Docking': -0.0, 'Virtual Screening': -0.0, 'Ligand Binding': -0.0, 'Active Site Prediction': -0.0, 'protein structure prediction': 0.34171900225966423, '3D model building': 0.011726091369618991, 'alignment of sequences': 0.08298138731710684, 'template-based modeling': 0.12142553700029284, 'accuracy assessment': -2.9168608435633905e-18, 'secondary structure prediction': -0.0, 'tertiary structure prediction': -0.0, 'ab initio modeling': -0.0, 'de novo modeling': -0.0, 'Protein structure': -0.0, 'Ligand design': -0.0, 'Macromolecular assembly': -0.0, 'Molecular docking': -0.0, 'Visualization tools': -0.0, 'Sequence alignment': -0.0, 'Homology modeling': -0.0, 'Multiple sequence alignment': -0.0, 'Structural superposition': -0.0, 'Comparative modeling': -0.0, 'Threading': -0.0, 'Protein structure prediction': -0.0, 'Model refinement': -0.0, 'Structure alignment': -0.0, 'RMSD calculation': -2.4673329568737894e-17, 'ligand binding affinity': 0.0005218800814657083, 'force field optimization': 0.033521341511879764, 'protein docking analysis': 0.0032452380672003535, 'Root Mean Square Deviation': -0.0, 'Structural Alignment': -0.0, 'Protein Conformation': -0.0, 'Structural Changes': -0.0, 'Ab initio prediction': -0.0, 'Fold recognition': -0.0, 'Protein structure refinement': -0.0, 'protein-ligand interactions': -0.0, 'docking energy': -1.4790438343220634e-18, 'binding site': -0.0, 'binding affinity prediction': -0.0, 'scoring function': -0.0, 'parameter optimization': -0.0, 'molecular dynamics simulations': -0.0, 'steepest descent': -0.0, 'genetic algorithm': -0.0, 'protein binding': 0.0836525461502642, 'molecular interaction': 0.003341608225938356, 'protein-protein interactions': 5.3847278642950866e-17, 'Protein-protein interactions': -0.0, 'Binding affinities': -0.0, 'Binding pockets': -0.0, 'enzyme-substrate interaction': -0.0, 'protein-protein interaction': -0.0, 'ligand-receptor binding': -0.0, 'Protein-ligand interactions': -0.0, 'Molecular docking software': -0.0, 'Virtual screening': -0.0, 'Binding affinity': -0.0, 'Scoring functions': -0.0, 'binding energy': -0.0, 'ligand interactions': -0.0, 'receptor conformation': -0.0, 'hydrophobic interactions': -0.0, 'polar interactions': -0.0, 'protein-protein docking': -0.0, 'protein-protein binding': -0.0, 'protein-protein interface': -0.0, 'protein-protein complexes': -0.0, 'protein-protein analysis': -0.0}\n",
      "Authorities: {'molecular modelling': -0.0, 'protein': 0.015727717412041327, 'ligand': 0.01632497250363783, 'docking': 0.016524057534169998, 'molecular dynamics': 0.02461968625119445, 'force field': 0.02052200848860479, 'simulation': 0.016524057534169998, 'energy minimization': 0.03574090643305464, 'conformation': 0.016524057534169998, 'binding affinity': 0.015727717412041327, 'structure prediction': 0.016125887473105664, 'Receptor': 2.9190619702653386e-18, 'Docking': 2.7493490650173542e-18, 'Binding Site': 2.8511768081661443e-18, 'Pharmacophore': 2.8172342271165474e-18, 'Dissociation Constant': 2.647521321868563e-18, 'protein docking': 0.0024481426075210434, 'ligand docking': 0.002872459279868022, 'molecular docking': 0.002907550260644432, 'docking algorithm': 0.0024481426075210434, 'docking simulation': 0.011873093787991678, 'force fields': 0.008207098513249106, 'simulation software': 0.001607653741365453, 'equations of motion': 0.0016275013184193473, 'integrator algorithms': 0.0015084158560959807, 'potential energy surface': 0.006945440548745269, 'Lennard-Jones': 2.602348359374781e-18, 'Electrostatics': 2.602348359374781e-18, 'Van der Waals': 2.5694072409016823e-18, 'Nonbonded interactions': 2.5694072409016823e-18, 'Atomistic potential': 2.602348359374781e-18, 'Monte Carlo simulation': 0.0070329981207461435, 'Brownian dynamics': 0.006619292348937547, 'conformer': 0.004993376107095633, 'geometry optimization': 0.005313464319088942, 'energy landscape': 0.005505517246284929, 'atomistic model': 0.004929358464696972, 'torsion angle': -2.644615928011746e-18, 'steric clashes': -2.6776736271118927e-18, 'hydrogen bonding': -2.6776736271118927e-18, 'minimization': -2.644615928011746e-18, 'Ramachandran plot': -2.5454428307113054e-18, 'protein-ligand binding': 0.000533781259321224, 'Kd value': 6.630963795304588e-05, 'docking score': 6.805462842549446e-05, 'binding free energy': 7.590708555151305e-05, 'binding site interactions': 7.677958078773734e-05, 'protein structure': 0.009880607941611845, 'ligand binding': 0.00915763662881098, 'homology modeling': 0.05556857240534172, 'amino acid sequence': 2.7521966030231523e-18, 'secondary structure': 2.8504893388454077e-18, 'tertiary structure': 2.8177250935713227e-18, 'quaternary structure': 2.7849608482972373e-18, 'protein folding': 2.9160178293935784e-18, 'molecular mechanics': 0.005057393749494296, 'conformational search': 0.005057393749494296, 'optimization algorithms': 0.005313464319088942, 'Protein-Ligand Docking': -6.395191972754259e-18, 'Molecular Docking': -1.3657351759117874e-17, 'Virtual Screening': -5.954144250495345e-18, 'Ligand Binding': -5.954144250495345e-18, 'Active Site Prediction': -5.880636296785525e-18, 'protein structure prediction': -2.0655486234084464e-18, '3D model building': -1.3370613413177694e-18, 'alignment of sequences': -1.2887338229568864e-18, 'template-based modeling': -1.401498032465614e-18, 'accuracy assessment': -1.1920787862351196e-18, 'secondary structure prediction': 0.05077564205774413, 'tertiary structure prediction': 0.05022373290494255, 'ab initio modeling': 0.04525655052972845, 'de novo modeling': 0.043600823071323756, 'Protein structure': 0.001496162729447613, 'Ligand design': 0.001496162729447613, 'Macromolecular assembly': 0.001496162729447613, 'Molecular docking': 0.012864083755222128, 'Visualization tools': 0.0015529790356291681, 'Sequence alignment': 0.012464133919612807, 'Homology modeling': 0.0848175662056458, 'Multiple sequence alignment': 0.012464133919612807, 'Structural superposition': 0.010453789739030096, 'Comparative modeling': 0.010185743848285734, 'Threading': 0.055426575453804756, 'Protein structure prediction': 0.015296888540789666, 'Model refinement': 0.016669686230347716, 'Structure alignment': 0.015493002496440816, 'RMSD calculation': -7.580205502835424e-19, 'ligand binding affinity': -7.28487282090677e-19, 'force field optimization': -7.383317048216321e-19, 'protein docking analysis': -7.383317048216321e-19, 'Root Mean Square Deviation': -6.957806926124225e-18, 'Structural Alignment': -6.2871749332447835e-18, 'Protein Conformation': -6.706319928794434e-18, 'Structural Changes': -6.119516935024921e-18, 'Ab initio prediction': 0.04746418714093472, 'Fold recognition': 0.04304891391852219, 'Protein structure refinement': 0.04967182375214099, 'protein-ligand interactions': 7.333114073182255e-05, 'docking energy': 0.0005303574902243704, 'binding site': 7.164536738166571e-05, 'binding affinity prediction': 7.50169140819794e-05, 'scoring function': 6.237361395580309e-05, 'parameter optimization': 0.004656057217227951, 'molecular dynamics simulations': 0.004277075815825676, 'steepest descent': 0.004114655215224701, 'genetic algorithm': 0.004277075815825676, 'protein binding': 0.00044551666527016916, 'molecular interaction': 0.0004245511751398083, 'protein-protein interactions': 0.00044551666527016916, 'Protein-protein interactions': 0.01175430305194188, 'Binding affinities': 0.01175430305194188, 'Binding pockets': 0.011348982257047332, 'enzyme-substrate interaction': 0.0004695407082766632, 'protein-protein interaction': 0.000485731767182755, 'ligand-receptor binding': 0.00045874666900593523, 'Protein-ligand interactions': 2.6750491993637575e-20, 'Molecular docking software': 2.735162664518e-20, 'Virtual screening': 2.4045386061696697e-20, 'Binding affinity': 2.494708803901032e-20, 'Scoring functions': 2.2542549432840658e-20, 'binding energy': -4.940840435138114e-19, 'ligand interactions': -4.607750068724309e-19, 'receptor conformation': -4.4967199465863735e-19, 'hydrophobic interactions': -4.441204885517406e-19, 'polar interactions': -4.4967199465863735e-19, 'protein-protein docking': 1.456760888380457e-17, 'protein-protein binding': 1.4884296033452496e-17, 'protein-protein interface': 1.5200983183100423e-17, 'protein-protein complexes': 1.5042639608276458e-17, 'protein-protein analysis': 1.4409265308980607e-17}\n",
      "Is the graph acyclic: False\n",
      "Edge Reciprocity: 0.013422818791946308\n",
      "Assortativity: 0.051080154035633485\n",
      "Diameter of largest strongly connected component: 2\n",
      "Average shortest path length of largest strongly connected component: 1.3333333333333333\n"
     ]
    },
    {
     "name": "stderr",
     "output_type": "stream",
     "text": [
      "/opt/homebrew/lib/python3.9/site-packages/networkx/algorithms/link_analysis/hits_alg.py:78: FutureWarning: adjacency_matrix will return a scipy.sparse array instead of a matrix in Networkx 3.0.\n",
      "  A = nx.adjacency_matrix(G, nodelist=list(G), dtype=float)\n"
     ]
    }
   ],
   "source": [
    "import networkx as nx\n",
    "\n",
    "# PageRank\n",
    "pagerank = nx.pagerank(G)\n",
    "\n",
    "# HITS Algorithm\n",
    "hubs, authorities = nx.hits(G)\n",
    "\n",
    "# Check if the graph is acyclic\n",
    "is_acyclic = nx.is_directed_acyclic_graph(G)\n",
    "\n",
    "# Edge Reciprocity (for directed graphs)\n",
    "if G.is_directed():\n",
    "    reciprocity = nx.overall_reciprocity(G)\n",
    "else:\n",
    "    reciprocity = \"N/A\"\n",
    "\n",
    "# Assortativity\n",
    "assortativity = nx.degree_assortativity_coefficient(G)\n",
    "\n",
    "# Diameter and Average Shortest Path Length\n",
    "# These are only meaningful for strongly connected components in directed graphs\n",
    "# Make G a directed graph\n",
    "G = G.to_directed()\n",
    "if nx.is_strongly_connected(G):\n",
    "    diameter = nx.diameter(G)\n",
    "    avg_shortest_path_length = nx.average_shortest_path_length(G)\n",
    "else:\n",
    "    largest_scc = max(nx.strongly_connected_components(G), key=len)\n",
    "    subgraph = G.subgraph(largest_scc)\n",
    "    # Make G a directed graph\n",
    "    subgraph = subgraph.to_directed()\n",
    "    if nx.is_strongly_connected(subgraph):\n",
    "        diameter = nx.diameter(subgraph)\n",
    "        avg_shortest_path_length = nx.average_shortest_path_length(subgraph)\n",
    "    else:\n",
    "        diameter = \"N/A\"\n",
    "        avg_shortest_path_length = \"N/A\"\n",
    "\n",
    "# Printing the insights\n",
    "print(\"PageRank:\", pagerank)\n",
    "print(\"Hubs:\", hubs)\n",
    "print(\"Authorities:\", authorities)\n",
    "print(\"Is the graph acyclic:\", is_acyclic)\n",
    "print(\"Edge Reciprocity:\", reciprocity)\n",
    "print(\"Assortativity:\", assortativity)\n",
    "print(\"Diameter of largest strongly connected component:\", diameter)\n",
    "print(\"Average shortest path length of largest strongly connected component:\", avg_shortest_path_length)\n"
   ]
  },
  {
   "cell_type": "code",
   "execution_count": 18,
   "metadata": {},
   "outputs": [
    {
     "name": "stdout",
     "output_type": "stream",
     "text": [
      "Metrics written to graph_metrics.csv in descending order of PageRank score\n"
     ]
    }
   ],
   "source": [
    "# Sort nodes by PageRank score in descending order\n",
    "sorted_nodes = sorted(G.nodes(), key=lambda x: pagerank[x], reverse=True)\n",
    "\n",
    "# File path for the CSV\n",
    "file_path = 'graph_metrics.csv'\n",
    "\n",
    "# Writing to CSV\n",
    "with open(file_path, mode='w', newline='', encoding='utf-8') as file:\n",
    "    writer = csv.writer(file)\n",
    "    writer.writerow(['Node', 'PageRank', 'Hub Score', 'Authority Score'])\n",
    "\n",
    "    for node in sorted_nodes:\n",
    "        writer.writerow([node, pagerank[node], hubs[node], authorities[node]])\n",
    "\n",
    "print(f\"Metrics written to {file_path} in descending order of PageRank score\")"
   ]
  }
 ],
 "metadata": {
  "kernelspec": {
   "display_name": "Python 3",
   "language": "python",
   "name": "python3"
  },
  "language_info": {
   "codemirror_mode": {
    "name": "ipython",
    "version": 3
   },
   "file_extension": ".py",
   "mimetype": "text/x-python",
   "name": "python",
   "nbconvert_exporter": "python",
   "pygments_lexer": "ipython3",
   "version": "3.9.18"
  }
 },
 "nbformat": 4,
 "nbformat_minor": 2
}
