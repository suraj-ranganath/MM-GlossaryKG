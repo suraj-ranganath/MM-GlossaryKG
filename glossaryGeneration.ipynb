{
 "cells": [
  {
   "cell_type": "code",
   "execution_count": 67,
   "metadata": {},
   "outputs": [],
   "source": [
    "import openai\n",
    "import dotenv\n",
    "import networkx as nx\n",
    "\n",
    "configenv = dotenv.dotenv_values(\".env\")\n",
    "openai_api_key = configenv[\"OPENAI_API_KEY\"]\n",
    "openai.api_key = openai_api_key"
   ]
  },
  {
   "cell_type": "code",
   "execution_count": 68,
   "metadata": {},
   "outputs": [],
   "source": [
    "seed_word = \"molecular modelling\""
   ]
  },
  {
   "cell_type": "code",
   "execution_count": 69,
   "metadata": {},
   "outputs": [],
   "source": [
    "prompt = \"Give me a python list of 10 strings (in one single line bounded by '[' and ']' without newline characters) related to the string {}:\".format(seed_word)"
   ]
  },
  {
   "cell_type": "code",
   "execution_count": 70,
   "metadata": {},
   "outputs": [],
   "source": [
    "response = openai.Completion.create(\n",
    "  model=\"gpt-3.5-turbo-instruct\",\n",
    "  prompt=prompt,\n",
    "  max_tokens=2000,\n",
    ")"
   ]
  },
  {
   "cell_type": "code",
   "execution_count": 71,
   "metadata": {},
   "outputs": [],
   "source": [
    "initial_generation = list(eval(response['choices'][0]['text'].strip(\" \\n\")))"
   ]
  },
  {
   "cell_type": "code",
   "execution_count": 72,
   "metadata": {},
   "outputs": [
    {
     "data": {
      "text/plain": [
       "['Chemical structure',\n",
       " 'Force fields',\n",
       " 'Molecular dynamics',\n",
       " 'Computational chemistry',\n",
       " 'Energy minimization',\n",
       " 'Protein-ligand interactions',\n",
       " 'Quantum mechanics',\n",
       " 'Molecular docking',\n",
       " 'Simulations',\n",
       " 'Biomolecular systems']"
      ]
     },
     "execution_count": 72,
     "metadata": {},
     "output_type": "execute_result"
    }
   ],
   "source": [
    "initial_generation"
   ]
  },
  {
   "cell_type": "code",
   "execution_count": 73,
   "metadata": {},
   "outputs": [],
   "source": [
    "G = nx.DiGraph()\n",
    "G.add_node(seed_word)\n",
    "for w in initial_generation:\n",
    "    G.add_node(w)\n",
    "    G.add_edge(seed_word, w)"
   ]
  },
  {
   "cell_type": "code",
   "execution_count": 74,
   "metadata": {},
   "outputs": [],
   "source": [
    "import copy\n",
    "\n",
    "termsL = copy.deepcopy(initial_generation)\n",
    "# TODO: add iter_depth\n",
    "\n",
    "for j in initial_generation:\n",
    "    generationsL = []\n",
    "\n",
    "    prompt = \"Give me a python list of 5 strings (in one single line bounded by '[' and ']' without newline characters) related to the string {} in the context of {}:\".format(j, seed_word)\n",
    "    response = openai.Completion.create(\n",
    "        model=\"gpt-3.5-turbo-instruct\",\n",
    "        prompt=prompt,\n",
    "        max_tokens=2000,\n",
    "    )\n",
    "    try:\n",
    "        generationsL = list(eval(response['choices'][0]['text'].strip(\" \\n\")))\n",
    "    except:\n",
    "        continue\n",
    "\n",
    "    for k in generationsL:\n",
    "        if k not in termsL:\n",
    "            termsL.append(k)\n",
    "            G.add_node(k)\n",
    "            G.add_edge(j, k)\n"
   ]
  },
  {
   "cell_type": "code",
   "execution_count": 75,
   "metadata": {},
   "outputs": [
    {
     "name": "stdout",
     "output_type": "stream",
     "text": [
      "KG_vis.html\n"
     ]
    },
    {
     "data": {
      "text/html": [
       "\n",
       "        <iframe\n",
       "            width=\"100%\"\n",
       "            height=\"600px\"\n",
       "            src=\"KG_vis.html\"\n",
       "            frameborder=\"0\"\n",
       "            allowfullscreen\n",
       "            \n",
       "        ></iframe>\n",
       "        "
      ],
      "text/plain": [
       "<IPython.lib.display.IFrame at 0x105b6eaf0>"
      ]
     },
     "execution_count": 75,
     "metadata": {},
     "output_type": "execute_result"
    }
   ],
   "source": [
    "from pyvis.network import Network\n",
    "\n",
    "nt = Network(notebook=True, cdn_resources='remote')\n",
    "nt.from_nx(G)\n",
    "nt.show(\"KG_vis.html\")"
   ]
  }
 ],
 "metadata": {
  "kernelspec": {
   "display_name": "Python 3",
   "language": "python",
   "name": "python3"
  },
  "language_info": {
   "codemirror_mode": {
    "name": "ipython",
    "version": 3
   },
   "file_extension": ".py",
   "mimetype": "text/x-python",
   "name": "python",
   "nbconvert_exporter": "python",
   "pygments_lexer": "ipython3",
   "version": "3.9.18"
  }
 },
 "nbformat": 4,
 "nbformat_minor": 2
}
